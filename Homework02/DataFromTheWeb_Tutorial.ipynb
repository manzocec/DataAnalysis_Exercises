{
 "cells": [
  {
   "cell_type": "code",
   "execution_count": 1,
   "metadata": {},
   "outputs": [],
   "source": [
    "import requests\n",
    "from bs4 import BeautifulSoup\n",
    "\n",
    "import pandas as pd\n",
    "import seaborn\n",
    "%matplotlib inline"
   ]
  },
  {
   "cell_type": "markdown",
   "metadata": {},
   "source": [
    "# Tutorial"
   ]
  },
  {
   "cell_type": "code",
   "execution_count": 2,
   "metadata": {},
   "outputs": [
    {
     "name": "stdout",
     "output_type": "stream",
     "text": [
      "Response status code: 200\n",
      "\n",
      "Response headers: {'Connection': 'keep-alive', 'Server': 'gunicorn/19.9.0', 'Date': 'Tue, 12 Feb 2019 12:21:26 GMT', 'Content-Type': 'application/json', 'Content-Length': '33', 'Access-Control-Allow-Origin': '*', 'Access-Control-Allow-Credentials': 'true', 'Via': '1.1 vegur'}\n",
      "\n",
      "Response body: {\n",
      "  \"origin\": \"193.72.144.227\"\n",
      "}\n",
      "\n",
      "\n"
     ]
    }
   ],
   "source": [
    "r1 = requests.get('https://httpbin.org/ip')\n",
    "\n",
    "print('Response status code: {}\\n'.format(r1.status_code)) # 200 = successful HTTP request\n",
    "print('Response headers: {}\\n'.format(r1.headers))\n",
    "print('Response body: {}\\n'.format(r1.text))"
   ]
  },
  {
   "cell_type": "code",
   "execution_count": 3,
   "metadata": {},
   "outputs": [
    {
     "data": {
      "text/plain": [
       "'<!DOCTYPE html>\\n<html>\\n  <head>\\n  </head>\\n  <body>\\n      <h1>Herman Melville - Moby-Dick</h1>\\n\\n      <div>\\n        <p>\\n          Availing himself of the mild, summer-cool weather that now reigned in these latitudes, and in preparation for the peculiarly active pursuits shortly to be anticipated, Per'"
      ]
     },
     "execution_count": 3,
     "metadata": {},
     "output_type": "execute_result"
    }
   ],
   "source": [
    "# Do the request\n",
    "r2 = requests.get('https://httpbin.org/html')\n",
    "r2.text[:300]"
   ]
  },
  {
   "cell_type": "code",
   "execution_count": 4,
   "metadata": {},
   "outputs": [
    {
     "data": {
      "text/plain": [
       "<h1>Herman Melville - Moby-Dick</h1>"
      ]
     },
     "execution_count": 4,
     "metadata": {},
     "output_type": "execute_result"
    }
   ],
   "source": [
    "# Extract the header\n",
    "soup = BeautifulSoup(r2.text, 'html.parser')\n",
    "soup.h1"
   ]
  },
  {
   "cell_type": "markdown",
   "metadata": {},
   "source": [
    "********************************************************************"
   ]
  },
  {
   "cell_type": "code",
   "execution_count": 5,
   "metadata": {},
   "outputs": [
    {
     "data": {
      "text/plain": [
       "'<!DOCTYPE html>\\n<html lang=\"en\">\\n<head data-urlpt=\"v/Vetterli:Martin\"><meta charset=\"UTF-8\" /><title>dblp: Martin Vetterli</title><link href=\"https://dblp.org\" rel=\"home\" /><link rel=\"apple-touch-icon\" type=\"image/png\" sizes=\"192x192\" href=\"https://dblp.uni-trier.de/img/dblp.icon.192x192.png\"><link '"
      ]
     },
     "execution_count": 5,
     "metadata": {},
     "output_type": "execute_result"
    }
   ],
   "source": [
    "r3 = requests.get('http://dblp.uni-trier.de/pers/hd/v/Vetterli:Martin')\n",
    "r3.text[:300]"
   ]
  },
  {
   "cell_type": "code",
   "execution_count": 6,
   "metadata": {},
   "outputs": [],
   "source": [
    "soup3 = BeautifulSoup(r3.text, 'html.parser')"
   ]
  },
  {
   "cell_type": "code",
   "execution_count": 7,
   "metadata": {},
   "outputs": [
    {
     "data": {
      "text/plain": [
       "'dblp: Martin Vetterli'"
      ]
     },
     "execution_count": 7,
     "metadata": {},
     "output_type": "execute_result"
    }
   ],
   "source": [
    "soup3.title.string"
   ]
  },
  {
   "cell_type": "code",
   "execution_count": 8,
   "metadata": {},
   "outputs": [
    {
     "name": "stdout",
     "output_type": "stream",
     "text": [
      "The webpage cointains 11917 links.\n"
     ]
    }
   ],
   "source": [
    "all_links = soup3.find_all('a')\n",
    "print('The webpage cointains {0} links.'.format(len(all_links)))"
   ]
  },
  {
   "cell_type": "code",
   "execution_count": 9,
   "metadata": {},
   "outputs": [
    {
     "name": "stdout",
     "output_type": "stream",
     "text": [
      "11097 of these links point to external websites.\n"
     ]
    }
   ],
   "source": [
    "external_links = 0\n",
    "for link in all_links:\n",
    "    if(not link.get('href').startswith('http://dblp.uni-trier.de/')\n",
    "       and link.get('href').startswith('http')):  # just an example, you need more checks\n",
    "        external_links += 1\n",
    "\n",
    "print('{0} of these links point to external websites.'.format(external_links))"
   ]
  },
  {
   "cell_type": "code",
   "execution_count": 10,
   "metadata": {},
   "outputs": [
    {
     "data": {
      "text/plain": [
       "<span class=\"title\" itemprop=\"name\">Learning neural connectivity from firing activity: efficient algorithms with provable guarantees on topology.</span>"
      ]
     },
     "execution_count": 10,
     "metadata": {},
     "output_type": "execute_result"
    }
   ],
   "source": [
    "soup3.find_all('li', class_='entry')[0].find('span', class_='title')"
   ]
  },
  {
   "cell_type": "code",
   "execution_count": 11,
   "metadata": {},
   "outputs": [
    {
     "name": "stdout",
     "output_type": "stream",
     "text": [
      "Learning neural connectivity from firing activity: efficient algorithms with provable guarantees on topology.\n",
      "Unlabeled Sensing With Random Linear Measurements.\n",
      "Sampling Continuous-Time Sparse Signals: A Frequency-Domain Perspective.\n",
      "Efficient Multidimensional Diracs Estimation With Linear Sample Complexity.\n",
      "Sampling at Unknown Locations: Uniqueness and Reconstruction Under Constraints.\n",
      "Combining Range and Direction for Improved Localization.\n"
     ]
    }
   ],
   "source": [
    "for p in soup3.find_all('li', class_='entry')[:6]:\n",
    "    print(p.find('span', class_='title').text)"
   ]
  },
  {
   "cell_type": "code",
   "execution_count": 14,
   "metadata": {},
   "outputs": [
    {
     "data": {
      "text/html": [
       "<div>\n",
       "<style scoped>\n",
       "    .dataframe tbody tr th:only-of-type {\n",
       "        vertical-align: middle;\n",
       "    }\n",
       "\n",
       "    .dataframe tbody tr th {\n",
       "        vertical-align: top;\n",
       "    }\n",
       "\n",
       "    .dataframe thead th {\n",
       "        text-align: right;\n",
       "    }\n",
       "</style>\n",
       "<table border=\"1\" class=\"dataframe\">\n",
       "  <thead>\n",
       "    <tr style=\"text-align: right;\">\n",
       "      <th></th>\n",
       "      <th>authors</th>\n",
       "      <th>title</th>\n",
       "      <th>year</th>\n",
       "    </tr>\n",
       "  </thead>\n",
       "  <tbody>\n",
       "    <tr>\n",
       "      <th>0</th>\n",
       "      <td>[Amin Karbasi, Amir Hesam Salavati, Martin Vet...</td>\n",
       "      <td>Learning neural connectivity from firing activ...</td>\n",
       "      <td>2018</td>\n",
       "    </tr>\n",
       "    <tr>\n",
       "      <th>1</th>\n",
       "      <td>[Jayakrishnan Unnikrishnan, Saeid Haghighatsho...</td>\n",
       "      <td>Unlabeled Sensing With Random Linear Measureme...</td>\n",
       "      <td>2018</td>\n",
       "    </tr>\n",
       "    <tr>\n",
       "      <th>2</th>\n",
       "      <td>[Benjamín Béjar Haro, Martin Vetterli]</td>\n",
       "      <td>Sampling Continuous-Time Sparse Signals: A Fre...</td>\n",
       "      <td>2018</td>\n",
       "    </tr>\n",
       "    <tr>\n",
       "      <th>3</th>\n",
       "      <td>[Hanjie Pan, Thierry Blu, Martin Vetterli]</td>\n",
       "      <td>Efficient Multidimensional Diracs Estimation W...</td>\n",
       "      <td>2018</td>\n",
       "    </tr>\n",
       "    <tr>\n",
       "      <th>4</th>\n",
       "      <td>[Golnoosh Elhami, Michalina Pacholska, Benjamí...</td>\n",
       "      <td>Sampling at Unknown Locations: Uniqueness and ...</td>\n",
       "      <td>2018</td>\n",
       "    </tr>\n",
       "    <tr>\n",
       "      <th>5</th>\n",
       "      <td>[Gilles Baechler, Frederike Diimbgen, Golnoosh...</td>\n",
       "      <td>Combining Range and Direction for Improved Loc...</td>\n",
       "      <td>2018</td>\n",
       "    </tr>\n",
       "    <tr>\n",
       "      <th>6</th>\n",
       "      <td>[Miranda Krekovic, Gilles Baechler, Ivan Dokma...</td>\n",
       "      <td>Structure from Sound with Incomplete Data.</td>\n",
       "      <td>2018</td>\n",
       "    </tr>\n",
       "    <tr>\n",
       "      <th>7</th>\n",
       "      <td>[Adam Scholefield, Alireza Ghasemi, Martin Vet...</td>\n",
       "      <td>Bound and Conquer: Improving Triangulation by ...</td>\n",
       "      <td>2018</td>\n",
       "    </tr>\n",
       "    <tr>\n",
       "      <th>8</th>\n",
       "      <td>[Gilles Baechler, Miranda Krekovic, Juri Ranie...</td>\n",
       "      <td>Super Resolution Phase Retrieval for Sparse Si...</td>\n",
       "      <td>2018</td>\n",
       "    </tr>\n",
       "    <tr>\n",
       "      <th>9</th>\n",
       "      <td>[Niranjan Thanikachalam, Loïc Baboulaz, Damien...</td>\n",
       "      <td>Handheld Reflectance Acquisition of Paintings.</td>\n",
       "      <td>2017</td>\n",
       "    </tr>\n",
       "  </tbody>\n",
       "</table>\n",
       "</div>"
      ],
      "text/plain": [
       "                                             authors  \\\n",
       "0  [Amin Karbasi, Amir Hesam Salavati, Martin Vet...   \n",
       "1  [Jayakrishnan Unnikrishnan, Saeid Haghighatsho...   \n",
       "2             [Benjamín Béjar Haro, Martin Vetterli]   \n",
       "3         [Hanjie Pan, Thierry Blu, Martin Vetterli]   \n",
       "4  [Golnoosh Elhami, Michalina Pacholska, Benjamí...   \n",
       "5  [Gilles Baechler, Frederike Diimbgen, Golnoosh...   \n",
       "6  [Miranda Krekovic, Gilles Baechler, Ivan Dokma...   \n",
       "7  [Adam Scholefield, Alireza Ghasemi, Martin Vet...   \n",
       "8  [Gilles Baechler, Miranda Krekovic, Juri Ranie...   \n",
       "9  [Niranjan Thanikachalam, Loïc Baboulaz, Damien...   \n",
       "\n",
       "                                               title  year  \n",
       "0  Learning neural connectivity from firing activ...  2018  \n",
       "1  Unlabeled Sensing With Random Linear Measureme...  2018  \n",
       "2  Sampling Continuous-Time Sparse Signals: A Fre...  2018  \n",
       "3  Efficient Multidimensional Diracs Estimation W...  2018  \n",
       "4  Sampling at Unknown Locations: Uniqueness and ...  2018  \n",
       "5  Combining Range and Direction for Improved Loc...  2018  \n",
       "6         Structure from Sound with Incomplete Data.  2018  \n",
       "7  Bound and Conquer: Improving Triangulation by ...  2018  \n",
       "8  Super Resolution Phase Retrieval for Sparse Si...  2018  \n",
       "9     Handheld Reflectance Acquisition of Paintings.  2017  "
      ]
     },
     "execution_count": 14,
     "metadata": {},
     "output_type": "execute_result"
    }
   ],
   "source": [
    "publications_list = []\n",
    "for p in soup3.find_all('li', class_='entry'):\n",
    "    title = p.find('span', class_='title').text  # get the title\n",
    "    authos_list = p.find_all('span', {'itemprop': 'author'})  # get the authors list\n",
    "    authors = [author.text for author in authos_list]  \n",
    "    year = p.find('span', {'itemprop': 'datePublished'}).text\n",
    "    publications_list.append({'title': title, \n",
    "                         'authors': authors, \n",
    "                         'year': int(year)})  # here you should validate the data\n",
    "\n",
    "publications = pd.DataFrame.from_dict(publications_list)\n",
    "publications.head(10)"
   ]
  },
  {
   "cell_type": "code",
   "execution_count": 20,
   "metadata": {},
   "outputs": [
    {
     "data": {
      "text/plain": [
       "<matplotlib.axes._subplots.AxesSubplot at 0x2994fe43d30>"
      ]
     },
     "execution_count": 20,
     "metadata": {},
     "output_type": "execute_result"
    },
    {
     "data": {
      "image/png": "[encoded data removed]",
      "text/plain": [
       "<Figure size 720x432 with 1 Axes>"
      ]
     },
     "metadata": {
      "needs_background": "light"
     },
     "output_type": "display_data"
    }
   ],
   "source": [
    "publications.groupby('year').count().rename(columns = {'title':'count'})\\\n",
    "    .plot(y='count', kind='bar', grid=True, figsize=(10, 6), title='Data from: ' + 'http://dblp.uni-trier.de/pers/hd/v/Vetterli:Martin')"
   ]
  },
  {
   "cell_type": "code",
   "execution_count": null,
   "metadata": {},
   "outputs": [],
   "source": []
  }
 ],
 "metadata": {
  "kernelspec": {
   "display_name": "Python [default]",
   "language": "python",
   "name": "python3"
  },
  "language_info": {
   "codemirror_mode": {
    "name": "ipython",
    "version": 3
   },
   "file_extension": ".py",
   "mimetype": "text/x-python",
   "name": "python",
   "nbconvert_exporter": "python",
   "pygments_lexer": "ipython3",
   "version": "3.7.0"
  }
 },
 "nbformat": 4,
 "nbformat_minor": 2
}
