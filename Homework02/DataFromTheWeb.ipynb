{
 "cells": [
  {
   "cell_type": "code",
   "execution_count": 1,
   "metadata": {},
   "outputs": [],
   "source": [
    "import requests\n",
    "from bs4 import BeautifulSoup\n",
    "\n",
    "import pandas as pd\n",
    "import seaborn\n",
    "import matplotlib.pyplot as plt\n",
    "%matplotlib inline\n",
    "\n",
    "import json"
   ]
  },
  {
   "cell_type": "markdown",
   "metadata": {},
   "source": [
    "# Assignment"
   ]
  },
  {
   "cell_type": "markdown",
   "metadata": {},
   "source": [
    "**Task 1**: Obtain the 200 top-ranking universities in [www.topuniversities.com](https://www.topuniversities.com/university-rankings/world-university-rankings/2018 \"Title\") (ranking 2018). In particular, extract the following fields for each university: name, rank, country and region, number of faculty members (international and total) and number of students (international and total). Some information is not available in the main list and you have to find them in the [details page](https://www.topuniversities.com/universities/epfl-ecole-polytechnique-federale-de-lausanne \"Title\"). Store the resulting dataset in a pandas DataFrame"
   ]
  },
  {
   "cell_type": "code",
   "execution_count": 2,
   "metadata": {},
   "outputs": [],
   "source": [
    "URL_top_universities = 'https://www.topuniversities.com/university-rankings/world-university-rankings/2018'\n",
    "\n",
    "r_empty = requests.get(URL_top_universities)\n",
    "r_empty = BeautifulSoup(r_empty.text, 'html.parser')\n",
    "\n",
    "with open('foo_empty.html', 'w', encoding='utf-8') as file:\n",
    "    file.write(r_empty.prettify())"
   ]
  },
  {
   "cell_type": "code",
   "execution_count": 3,
   "metadata": {},
   "outputs": [],
   "source": [
    "r_top_per_uni = requests.get('https://www.topuniversities.com/universities/massachusetts-institute-technology-mit')\n",
    "r_top_per_uni = BeautifulSoup(r_top_per_uni.text, 'html.parser')\n",
    "\n",
    "with open('foo_per_uni.html', 'w', encoding='utf-8') as file:\n",
    "    file.write(r_top_per_uni.prettify())"
   ]
  },
  {
   "cell_type": "code",
   "execution_count": 4,
   "metadata": {},
   "outputs": [],
   "source": [
    "# 'foo_empty.html' can be opened in a web browser to see that we don't get all the desired data\n",
    "# and so we will proceed differently, i.e. using a json format instead of the BeautifulSoup output.\n",
    "\n",
    "r_topuni = requests.get('https://www.topuniversities.com/sites/default/files/qs-rankings-data/357051_indicators.txt')\n",
    "r_topuni = json.loads(r_topuni.text)\n",
    "\n",
    "#print(r_topuni['data'][0])"
   ]
  },
  {
   "cell_type": "code",
   "execution_count": 5,
   "metadata": {},
   "outputs": [],
   "source": [
    "def get_pers_numbers(url_per_uni):\n",
    "    numbers = {}\n",
    "    \n",
    "    r_top_per_uni = requests.get(url_per_uni)\n",
    "    r_top_per_uni = BeautifulSoup(r_top_per_uni.text, 'html.parser')\n",
    "    \n",
    "    all_numbers = r_top_per_uni.find_all('div', class_='rank tab-pane fees')[0]\n",
    "    \n",
    "    for hh in all_numbers.find_all('h4'):\n",
    "        numbers[hh.text.split(' - ')[0]] = int(hh.text.split(' - ')[1].replace(',', ''))\n",
    "        \n",
    "    if all_numbers.find('label', string='International staff') is not None:\n",
    "        numbers['International staff'] = int(all_numbers.find('label', string='International staff').find_next().text[1:].replace(',', ''))\n",
    "    \n",
    "    return numbers\n",
    "\n",
    "\n",
    "def compute_ratios(list_uni):\n",
    "    \n",
    "    for kk in range(len(list_uni)):\n",
    "        if ('Total faculty staff' in list_uni[kk].keys()) and ('Total students' in list_uni[kk].keys()):\n",
    "            list_uni[kk]['Ratio between faculty members and students'] = list_uni[kk]['Total faculty staff'] / list_uni[kk]['Total students']\n",
    "        \n",
    "        if ('International students' in list_uni[kk].keys()) and ('Total students' in list_uni[kk].keys()):\n",
    "            list_uni[kk]['Ratio of international students'] = list_uni[kk]['International students'] / list_uni[kk]['Total students']\n",
    "            \n",
    "    return list_uni\n",
    "\n",
    "\n",
    "def get_topuni_data(url_basic, json_data):\n",
    "    out = list(dict())\n",
    "\n",
    "    for ll in range(min(200, len(json_data['data']))):\n",
    "        name_html = json_data['data'][ll]['uni']\n",
    "        idx_open = [i for i, a in enumerate(name_html) if a == '<']\n",
    "        idx_close = [i for i, a in enumerate(name_html) if a == '>']\n",
    "        \n",
    "        name = name_html[idx_close[2]+1 : idx_open[3]]\n",
    "        rank = json_data['data'][ll]['overall_rank']\n",
    "        loc = json_data['data'][ll]['location']\n",
    "        region = json_data['data'][ll]['region']\n",
    "        \n",
    "        url_to_add = name_html[idx_open[2]+1 : idx_close[2]][8:-1]\n",
    "        \n",
    "        numbers_per_uni = get_pers_numbers(url_basic + url_to_add)\n",
    "                    \n",
    "        out.append({**{'Name': name, 'Rank': rank, 'Country': loc, 'Region': region}, **numbers_per_uni})\n",
    "        \n",
    "    out = compute_ratios(out)\n",
    "    print('Done!')\n",
    "                    \n",
    "    return out"
   ]
  },
  {
   "cell_type": "code",
   "execution_count": 6,
   "metadata": {
    "scrolled": true
   },
   "outputs": [
    {
     "name": "stdout",
     "output_type": "stream",
     "text": [
      "Done!\n"
     ]
    }
   ],
   "source": [
    "data_200topuni = get_topuni_data('https://www.topuniversities.com', r_topuni)"
   ]
  },
  {
   "cell_type": "code",
   "execution_count": 7,
   "metadata": {},
   "outputs": [
    {
     "data": {
      "text/html": [
       "<div>\n",
       "<style scoped>\n",
       "    .dataframe tbody tr th:only-of-type {\n",
       "        vertical-align: middle;\n",
       "    }\n",
       "\n",
       "    .dataframe tbody tr th {\n",
       "        vertical-align: top;\n",
       "    }\n",
       "\n",
       "    .dataframe thead th {\n",
       "        text-align: right;\n",
       "    }\n",
       "</style>\n",
       "<table border=\"1\" class=\"dataframe\">\n",
       "  <thead>\n",
       "    <tr style=\"text-align: right;\">\n",
       "      <th></th>\n",
       "      <th>Country</th>\n",
       "      <th>International staff</th>\n",
       "      <th>International students</th>\n",
       "      <th>Name</th>\n",
       "      <th>Rank</th>\n",
       "      <th>Ratio between faculty members and students</th>\n",
       "      <th>Ratio of international students</th>\n",
       "      <th>Region</th>\n",
       "      <th>Total faculty staff</th>\n",
       "      <th>Total students</th>\n",
       "    </tr>\n",
       "  </thead>\n",
       "  <tbody>\n",
       "    <tr>\n",
       "      <th>0</th>\n",
       "      <td>United States</td>\n",
       "      <td>1696.0</td>\n",
       "      <td>3732.0</td>\n",
       "      <td>Massachusetts Institute of Technology (MIT)</td>\n",
       "      <td>1</td>\n",
       "      <td>0.269987</td>\n",
       "      <td>0.334859</td>\n",
       "      <td>North America</td>\n",
       "      <td>3009</td>\n",
       "      <td>11145.0</td>\n",
       "    </tr>\n",
       "    <tr>\n",
       "      <th>1</th>\n",
       "      <td>United States</td>\n",
       "      <td>2115.0</td>\n",
       "      <td>3665.0</td>\n",
       "      <td>Stanford University</td>\n",
       "      <td>2</td>\n",
       "      <td>0.270592</td>\n",
       "      <td>0.227146</td>\n",
       "      <td>North America</td>\n",
       "      <td>4366</td>\n",
       "      <td>16135.0</td>\n",
       "    </tr>\n",
       "    <tr>\n",
       "      <th>2</th>\n",
       "      <td>United States</td>\n",
       "      <td>1383.0</td>\n",
       "      <td>5495.0</td>\n",
       "      <td>Harvard University</td>\n",
       "      <td>3</td>\n",
       "      <td>0.199850</td>\n",
       "      <td>0.241783</td>\n",
       "      <td>North America</td>\n",
       "      <td>4542</td>\n",
       "      <td>22727.0</td>\n",
       "    </tr>\n",
       "    <tr>\n",
       "      <th>3</th>\n",
       "      <td>United States</td>\n",
       "      <td>407.0</td>\n",
       "      <td>667.0</td>\n",
       "      <td>California Institute of Technology (Caltech)</td>\n",
       "      <td>4</td>\n",
       "      <td>0.450648</td>\n",
       "      <td>0.297901</td>\n",
       "      <td>North America</td>\n",
       "      <td>1009</td>\n",
       "      <td>2239.0</td>\n",
       "    </tr>\n",
       "    <tr>\n",
       "      <th>4</th>\n",
       "      <td>United Kingdom</td>\n",
       "      <td>2749.0</td>\n",
       "      <td>7049.0</td>\n",
       "      <td>University of Cambridge</td>\n",
       "      <td>5</td>\n",
       "      <td>0.291673</td>\n",
       "      <td>0.367078</td>\n",
       "      <td>Europe</td>\n",
       "      <td>5601</td>\n",
       "      <td>19203.0</td>\n",
       "    </tr>\n",
       "  </tbody>\n",
       "</table>\n",
       "</div>"
      ],
      "text/plain": [
       "          Country  International staff  International students  \\\n",
       "0   United States               1696.0                  3732.0   \n",
       "1   United States               2115.0                  3665.0   \n",
       "2   United States               1383.0                  5495.0   \n",
       "3   United States                407.0                   667.0   \n",
       "4  United Kingdom               2749.0                  7049.0   \n",
       "\n",
       "                                           Name Rank  \\\n",
       "0   Massachusetts Institute of Technology (MIT)    1   \n",
       "1                           Stanford University    2   \n",
       "2                            Harvard University    3   \n",
       "3  California Institute of Technology (Caltech)    4   \n",
       "4                       University of Cambridge    5   \n",
       "\n",
       "   Ratio between faculty members and students  \\\n",
       "0                                    0.269987   \n",
       "1                                    0.270592   \n",
       "2                                    0.199850   \n",
       "3                                    0.450648   \n",
       "4                                    0.291673   \n",
       "\n",
       "   Ratio of international students         Region  Total faculty staff  \\\n",
       "0                         0.334859  North America                 3009   \n",
       "1                         0.227146  North America                 4366   \n",
       "2                         0.241783  North America                 4542   \n",
       "3                         0.297901  North America                 1009   \n",
       "4                         0.367078         Europe                 5601   \n",
       "\n",
       "   Total students  \n",
       "0         11145.0  \n",
       "1         16135.0  \n",
       "2         22727.0  \n",
       "3          2239.0  \n",
       "4         19203.0  "
      ]
     },
     "execution_count": 7,
     "metadata": {},
     "output_type": "execute_result"
    }
   ],
   "source": [
    "data_200topuni = pd.DataFrame(data_200topuni)\n",
    "data_200topuni.head()"
   ]
  },
  {
   "cell_type": "markdown",
   "metadata": {},
   "source": [
    "The number of international students and faculty members is unknown for all Latin American universities."
   ]
  },
  {
   "cell_type": "code",
   "execution_count": 8,
   "metadata": {},
   "outputs": [],
   "source": [
    "#data_200topuni[data_200topuni['Region'] == 'Latin America']"
   ]
  },
  {
   "cell_type": "code",
   "execution_count": 9,
   "metadata": {},
   "outputs": [],
   "source": [
    "per_region = data_200topuni.groupby(['Region'])['Ratio between faculty members and students', \n",
    "                                                'Ratio of international students'].mean()"
   ]
  },
  {
   "cell_type": "code",
   "execution_count": 10,
   "metadata": {},
   "outputs": [
    {
     "data": {
      "image/png": "[encoded data removed]",
      "text/plain": [
       "<Figure size 432x288 with 1 Axes>"
      ]
     },
     "metadata": {
      "needs_background": "light"
     },
     "output_type": "display_data"
    }
   ],
   "source": [
    "to_plot = 'Ratio between faculty members and students'\n",
    "ax = (per_region[to_plot].sort_values()).plot.bar(title=to_plot)"
   ]
  },
  {
   "cell_type": "code",
   "execution_count": 15,
   "metadata": {},
   "outputs": [
    {
     "data": {
      "image/png": "[encoded data removed]",
      "text/plain": [
       "<Figure size 432x288 with 1 Axes>"
      ]
     },
     "metadata": {
      "needs_background": "light"
     },
     "output_type": "display_data"
    }
   ],
   "source": [
    "to_plot = 'Ratio of international students'\n",
    "ax = (per_region[to_plot].dropna().sort_values()).plot.bar(title=to_plot)"
   ]
  },
  {
   "cell_type": "code",
   "execution_count": 12,
   "metadata": {},
   "outputs": [],
   "source": [
    "per_country = data_200topuni.groupby(['Country'])['Ratio between faculty members and students', \n",
    "                                                'Ratio of international students'].mean()"
   ]
  },
  {
   "cell_type": "code",
   "execution_count": 13,
   "metadata": {},
   "outputs": [
    {
     "data": {
      "image/png": "[encoded data removed]",
      "text/plain": [
       "<Figure size 432x288 with 1 Axes>"
      ]
     },
     "metadata": {
      "needs_background": "light"
     },
     "output_type": "display_data"
    }
   ],
   "source": [
    "to_plot = 'Ratio between faculty members and students'\n",
    "ax = (per_country[to_plot].sort_values()).plot.bar(title=to_plot)"
   ]
  },
  {
   "cell_type": "code",
   "execution_count": 16,
   "metadata": {},
   "outputs": [
    {
     "data": {
      "image/png": "[encoded data removed]",
      "text/plain": [
       "<Figure size 432x288 with 1 Axes>"
      ]
     },
     "metadata": {
      "needs_background": "light"
     },
     "output_type": "display_data"
    }
   ],
   "source": [
    "to_plot = 'Ratio of international students'\n",
    "ax = (per_country[to_plot].dropna().sort_values()).plot.bar(title=to_plot)"
   ]
  },
  {
   "cell_type": "markdown",
   "metadata": {},
   "source": [
    "**Task 2**: Obtain the 200 top-ranking universities in [www.timeshighereducation.com](https://www.timeshighereducation.com/world-university-rankings/2018/world-ranking#!/page/0/length/25/sort_by/rank/sort_order/asc/cols/stats \"Title\") (ranking 2018) and repeat the same analysis as above."
   ]
  },
  {
   "cell_type": "code",
   "execution_count": 32,
   "metadata": {},
   "outputs": [],
   "source": [
    "#URL_higher_education = 'https://www.timeshighereducation.com/world-university-rankings/2018/world-ranking#!/page/0/length/25/sort_by/rank/sort_order/asc/cols/stats'\n",
    "\n",
    "r_highedu = requests.get('https://www.timeshighereducation.com/sites/default/files/the_data_rankings/world_university_rankings_2018_limit0_369a9045a203e176392b9fb8f8c1cb2a.json')\n",
    "r_highedu = json.loads(r_highedu.text)"
   ]
  },
  {
   "cell_type": "code",
   "execution_count": 35,
   "metadata": {},
   "outputs": [
    {
     "data": {
      "text/plain": [
       "{'rank_order': '10',\n",
       " 'rank': '1',\n",
       " 'name': 'University of Oxford',\n",
       " 'scores_overall': '94.3',\n",
       " 'scores_overall_rank': '10',\n",
       " 'scores_teaching': '86.7',\n",
       " 'scores_teaching_rank': '5',\n",
       " 'scores_research': '99.5',\n",
       " 'scores_research_rank': '1',\n",
       " 'scores_citations': '99.1',\n",
       " 'scores_citations_rank': '15',\n",
       " 'scores_industry_income': '63.7',\n",
       " 'scores_industry_income_rank': '169',\n",
       " 'scores_international_outlook': '95.0',\n",
       " 'scores_international_outlook_rank': '24',\n",
       " 'record_type': 'master_account',\n",
       " 'member_level': '0',\n",
       " 'url': '/world-university-rankings/university-oxford',\n",
       " 'nid': 468,\n",
       " 'location': 'United Kingdom',\n",
       " 'stats_number_students': '20,409',\n",
       " 'stats_student_staff_ratio': '11.2',\n",
       " 'stats_pc_intl_students': '38%',\n",
       " 'stats_female_male_ratio': '46 : 54',\n",
       " 'aliases': '牛津大学',\n",
       " 'subjects_offered': 'Computer Science,Civil Engineering,Mathematics & Statistics,Languages, Literature & Linguistics,Physics & Astronomy,Biological Sciences,General Engineering,Electrical & Electronic Engineering,Chemical Engineering,Other Health,Psychology,Politics & International Studies (incl Development Studies),History, Philosophy & Theology,Economics & Econometrics,Law,Mechanical & Aerospace Engineering,Chemistry,Sociology,Geology, Environmental, Earth & Marine Sciences,Art, Performing Arts & Design,Geography,Medicine & Dentistry'}"
      ]
     },
     "execution_count": 35,
     "metadata": {},
     "output_type": "execute_result"
    }
   ],
   "source": [
    "r_highedu['data'][0]"
   ]
  },
  {
   "cell_type": "code",
   "execution_count": null,
   "metadata": {},
   "outputs": [],
   "source": []
  },
  {
   "cell_type": "code",
   "execution_count": null,
   "metadata": {},
   "outputs": [],
   "source": []
  },
  {
   "cell_type": "code",
   "execution_count": null,
   "metadata": {},
   "outputs": [],
   "source": []
  },
  {
   "cell_type": "code",
   "execution_count": null,
   "metadata": {},
   "outputs": [],
   "source": []
  }
 ],
 "metadata": {
  "kernelspec": {
   "display_name": "Python [default]",
   "language": "python",
   "name": "python3"
  },
  "language_info": {
   "codemirror_mode": {
    "name": "ipython",
    "version": 3
   },
   "file_extension": ".py",
   "mimetype": "text/x-python",
   "name": "python",
   "nbconvert_exporter": "python",
   "pygments_lexer": "ipython3",
   "version": "3.7.0"
  }
 },
 "nbformat": 4,
 "nbformat_minor": 2
}
